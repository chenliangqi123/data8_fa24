{
 "cells": [
  {
   "cell_type": "code",
   "metadata": {
    "deletable": false,
    "editable": false,
    "ExecuteTime": {
     "end_time": "2024-09-09T09:16:43.436564Z",
     "start_time": "2024-09-09T09:16:42.646440Z"
    }
   },
   "source": [
    "# Initialize Otter\n",
    "import otter\n",
    "grader = otter.Notebook(\"hw02.ipynb\")"
   ],
   "id": "58b78f524ee1ad2",
   "outputs": [],
   "execution_count": 1
  },
  {
   "cell_type": "markdown",
   "metadata": {},
   "source": [
    "<img src=\"data8logo.png\" alt=\"Data 8 Logo\" style=\"width: 15%; float: right; padding: 1%; margin-right: 2%;\"/>\n",
    "\n",
    "# Homework 2: Arrays and Tables\n",
    "\n",
    "Please complete this notebook by filling in the cells provided. Before you begin, execute the previous cell to load the provided tests.\n",
    "\n",
    "**Helpful Resource:**\n",
    "- [Python Reference](http://data8.org/fa24/reference/): Cheat sheet of helpful array & table methods used in Data 8!\n",
    "\n",
    "**Recommended Readings:**\n",
    "- [Arrays](https://inferentialthinking.com/chapters/05/1/Arrays.html)\n",
    "- [Data 8 Arrays Guide](https://drive.google.com/file/d/1vTduvivHyEX7cdpMCq9B2jC4iy6A3Tru/view?usp=sharing)\n",
    "- [What is Data Science?](http://www.inferentialthinking.com/chapters/01/what-is-data-science.html)\n",
    "- [Causality and Experiments](http://www.inferentialthinking.com/chapters/02/causality-and-experiments.html) \n",
    "- [Programming in Python](http://www.inferentialthinking.com/chapters/03/programming-in-python.html)\n",
    "\n",
    "For all problems that you must write explanations and sentences for, you **must** provide your answer in the designated space. Moreover, throughout this homework and all future ones, **please be sure to not re-assign variables throughout the notebook!** For example, if you use `max_temperature` in your answer to one question, do not reassign it later on. Otherwise, you will fail tests that you thought you were passing previously!\n",
    "\n",
    "**Deadline:**\n",
    "\n",
    "This assignment is **due Wednesday, 9/11 at 5:00pm PT**. Submissions after this time will be accepted for 24 hours and will incur a 20% penalty. Any submissions later than this 24 hour period will not be accepted unless an extension has been granted as per the [policies](http://data8.org/fa24/policies/) page. Turn it in by Tuesday, 9/10 at 5:00pm PT for 5 extra credit points.\n",
    "\n",
    "<span style=\"color:red\">**Note: This homework has hidden tests on it. That means even though tests may say 100% passed, it doesn't mean your final grade will be 100%. We will be running more tests for correctness once everyone turns in the homework.**</span>\n",
    "\n",
    "Directly sharing answers is not okay, but discussing problems with the course staff or with other students is encouraged. Refer to the policies page to learn more about how to learn cooperatively.\n",
    "\n",
    "You should start early so that you have time to get help if you're stuck. Office hours are held Monday through Friday in [Warren Hall](https://www.berkeley.edu/map/warren-hall/) 101B. The office hours schedule appears on [https://www.data8.org/fa24/schedule/](https://www.data8.org/fa24/schedule/)."
   ],
   "id": "c828bcf834c9cd10"
  },
  {
   "cell_type": "markdown",
   "metadata": {},
   "source": [
    "---\n",
    "\n",
    "The point breakdown for this assignment is given in the table below:\n",
    "| Category | Points |\n",
    "| --- | --- |\n",
    "| Autograder (Coding questions) | 100 |\n",
    "| Written | 0 |\n",
    "| **Total** | 100 |\n",
    "\n",
    "<span style=\"color:red\">**Note:**</span> Since there are no written/manual questions in this homework, there is no PDF to submit."
   ],
   "id": "afa486f45a6629a1"
  },
  {
   "cell_type": "code",
   "metadata": {
    "ExecuteTime": {
     "end_time": "2024-09-09T09:16:45.511314Z",
     "start_time": "2024-09-09T09:16:45.506036Z"
    }
   },
   "source": [
    "# Run this cell and ignore the output. It is checking to see if you ran the first cell! \n",
    "# If you get a NameError, please run the cell at the very TOP of this notebook!\n",
    "\n",
    "grader"
   ],
   "id": "7ba9e8eaf61103a1",
   "outputs": [
    {
     "data": {
      "text/plain": [
       "<otter.check.notebook.Notebook at 0x10679e640>"
      ]
     },
     "execution_count": 2,
     "metadata": {},
     "output_type": "execute_result"
    }
   ],
   "execution_count": 2
  },
  {
   "cell_type": "markdown",
   "metadata": {},
   "source": [
    "<hr style=\"border: 5px solid #003262;\" />\n",
    "<hr style=\"border: 1px solid #fdb515;\" />\n",
    "\n",
    "## 1. Creating Arrays"
   ],
   "id": "194c4f463869d344"
  },
  {
   "cell_type": "code",
   "metadata": {
    "ExecuteTime": {
     "end_time": "2024-09-09T09:16:49.341031Z",
     "start_time": "2024-09-09T09:16:47.914747Z"
    }
   },
   "source": [
    "# Run this cell to set up the notebook, but please don't change it.\n",
    "\n",
    "import numpy as np\n",
    "from datascience import *\n",
    "import warnings\n",
    "warnings.simplefilter('ignore', FutureWarning)"
   ],
   "id": "a687cfe063d4725f",
   "outputs": [],
   "execution_count": 3
  },
  {
   "cell_type": "markdown",
   "metadata": {},
   "source": [
    "---\n",
    "\n",
    "**Question 1.** Make an array called `weird_numbers` containing the following numbers (in the given order) **(4 Points)**:\n",
    "\n",
    "1. -2\n",
    "2. the floor of 17.6\n",
    "3. 3\n",
    "4. 5 to the power of the ceil of 5.3\n",
    "\n",
    "*Hint:* `floor` and `ceil` are functions in the `math` module. Importing modules is covered in Lab 2!\n",
    "\n",
    "*Note:* Python lists are different/behave differently than NumPy arrays. In Data 8, we use NumPy arrays, so please make an **array**, not a Python list.\n"
   ],
   "id": "4f2235f0f7c5b38d"
  },
  {
   "cell_type": "code",
   "metadata": {
    "tags": [],
    "ExecuteTime": {
     "end_time": "2024-09-09T09:20:40.001105Z",
     "start_time": "2024-09-09T09:20:39.987411Z"
    }
   },
   "source": [
    "# Our solution involved one extra line of code before creating weird_numbers.\n",
    "import numpy as np\n",
    "from math import *\n",
    "weird_numbers = np.array([-2, floor(17.6), 3, 5**ceil(5.3)])\n",
    "weird_numbers"
   ],
   "id": "7060276e0a5746f3",
   "outputs": [
    {
     "data": {
      "text/plain": [
       "array([   -2,    17,     3, 15625])"
      ]
     },
     "execution_count": 7,
     "metadata": {},
     "output_type": "execute_result"
    }
   ],
   "execution_count": 7
  },
  {
   "cell_type": "code",
   "metadata": {
    "deletable": false,
    "editable": false,
    "ExecuteTime": {
     "end_time": "2024-09-09T09:20:41.459582Z",
     "start_time": "2024-09-09T09:20:41.451928Z"
    }
   },
   "source": [
    "grader.check(\"q1_1\")"
   ],
   "id": "795856a9ae297efa",
   "outputs": [
    {
     "data": {
      "text/plain": [
       "q1_1 results: All test cases passed!"
      ],
      "text/html": [
       "<p><strong><pre style='display: inline;'>q1_1</pre></strong> passed! 🍀</p>"
      ]
     },
     "execution_count": 8,
     "metadata": {},
     "output_type": "execute_result"
    }
   ],
   "execution_count": 8
  },
  {
   "cell_type": "markdown",
   "metadata": {},
   "source": [
    "---\n",
    "\n",
    "**Question 2.** Make an array called `book_title_words` containing the following three strings: \"Eats\", \"Shoots\", and \"and Leaves\". **(4 Points)**\n"
   ],
   "id": "2e7d86dcd387b7bb"
  },
  {
   "cell_type": "code",
   "metadata": {
    "tags": [],
    "ExecuteTime": {
     "end_time": "2024-09-09T09:21:17.227946Z",
     "start_time": "2024-09-09T09:21:17.223089Z"
    }
   },
   "source": [
    "book_title_words = np.array([\"Eats\", \"Shoots\", \"and Leaves\"])\n",
    "book_title_words"
   ],
   "id": "a6b55b113060e01b",
   "outputs": [
    {
     "data": {
      "text/plain": [
       "array(['Eats', 'Shoots', 'and Leaves'],\n",
       "      dtype='<U10')"
      ]
     },
     "execution_count": 9,
     "metadata": {},
     "output_type": "execute_result"
    }
   ],
   "execution_count": 9
  },
  {
   "cell_type": "code",
   "metadata": {
    "deletable": false,
    "editable": false,
    "ExecuteTime": {
     "end_time": "2024-09-09T09:21:18.393256Z",
     "start_time": "2024-09-09T09:21:18.385687Z"
    }
   },
   "source": [
    "grader.check(\"q1_2\")"
   ],
   "id": "c6fe990830513f9d",
   "outputs": [
    {
     "data": {
      "text/plain": [
       "q1_2 results: All test cases passed!"
      ],
      "text/html": [
       "<p><strong><pre style='display: inline;'>q1_2</pre></strong> passed! 🌟</p>"
      ]
     },
     "execution_count": 10,
     "metadata": {},
     "output_type": "execute_result"
    }
   ],
   "execution_count": 10
  },
  {
   "cell_type": "markdown",
   "metadata": {},
   "source": [
    "Strings have a special method called `join`. `join` takes one argument, an array of strings.  It returns a single string.  Specifically, the value of `a_string.join(an_array)` is a single string that's the [concatenation](https://en.wikipedia.org/wiki/Concatenation) (\"putting together\") of all the strings in `an_array`, **except** `a_string` is inserted in between each string.\n",
    "\n",
    "---\n",
    "\n",
    "**Question 3.** Use the array `book_title_words` and the method `join` to make two strings **(4 Points)**:\n",
    "\n",
    "1. \"Eats, Shoots, and Leaves\" (call this one `with_commas`)\n",
    "2. \"Eats Shoots and Leaves\" (call this one `without_commas`)\n",
    "\n",
    "*Hint:* If you're not sure what `join` does, first try just calling, for example, `\"data8\".join(book_title_words)` .\n"
   ],
   "id": "b3baaefa7a942bce"
  },
  {
   "cell_type": "code",
   "metadata": {
    "tags": [],
    "ExecuteTime": {
     "end_time": "2024-09-09T09:22:59.110355Z",
     "start_time": "2024-09-09T09:22:59.107662Z"
    }
   },
   "source": [
    "with_commas = ', '.join(book_title_words)\n",
    "without_commas = ' '.join(book_title_words)\n",
    "\n",
    "# These lines are provided just to print out your answers.\n",
    "print('with_commas:', with_commas)\n",
    "print('without_commas:', without_commas)"
   ],
   "id": "1999090251ea9831",
   "outputs": [
    {
     "name": "stdout",
     "output_type": "stream",
     "text": [
      "with_commas: Eats, Shoots, and Leaves\n",
      "without_commas: Eats Shoots and Leaves\n"
     ]
    }
   ],
   "execution_count": 13
  },
  {
   "cell_type": "code",
   "metadata": {
    "deletable": false,
    "editable": false,
    "ExecuteTime": {
     "end_time": "2024-09-09T09:22:59.762537Z",
     "start_time": "2024-09-09T09:22:59.758071Z"
    }
   },
   "source": [
    "grader.check(\"q1_3\")"
   ],
   "id": "53f1fc961e938c7f",
   "outputs": [
    {
     "data": {
      "text/plain": [
       "q1_3 results: All test cases passed!"
      ],
      "text/html": [
       "<p><strong><pre style='display: inline;'>q1_3</pre></strong> passed! 🚀</p>"
      ]
     },
     "execution_count": 14,
     "metadata": {},
     "output_type": "execute_result"
    }
   ],
   "execution_count": 14
  },
  {
   "cell_type": "markdown",
   "metadata": {},
   "source": [
    "<hr style=\"border: 5px solid #003262;\" />\n",
    "<hr style=\"border: 1px solid #fdb515;\" />\n",
    "\n",
    "## 2. Indexing Arrays"
   ],
   "id": "85fbf6a2607e422e"
  },
  {
   "attachments": {},
   "cell_type": "markdown",
   "metadata": {},
   "source": [
    "These exercises give you practice on accessing individual elements of arrays. In Python, each element is accessed by its index. An index indicates the position of an element within an array. For example, the first element is the element at index 0. Indices must be **integers**.\n",
    "\n",
    "***Note:* If you have previous coding experience, you may be familiar with bracket notation. DO NOT use bracket notation when indexing (i.e. `arr[0]`), as this can yield different data type outputs than what we will be expecting. This can cause you to fail an autograder test.**\n",
    "\n",
    "Be sure to refer to the [Python Reference](http://data8.org/fa24/reference/) on the website if you feel stuck!"
   ],
   "id": "e47abe54206961b6"
  },
  {
   "cell_type": "markdown",
   "metadata": {},
   "source": [
    "---\n",
    "\n",
    "**Question 1.** The cell below creates an array of some numbers.  Set `third_element` to the third element of `some_numbers`. **(4 Points)**\n"
   ],
   "id": "1584f53156aef580"
  },
  {
   "cell_type": "code",
   "metadata": {
    "tags": [],
    "ExecuteTime": {
     "end_time": "2024-09-09T09:25:39.849304Z",
     "start_time": "2024-09-09T09:25:39.843038Z"
    }
   },
   "source": [
    "some_numbers = make_array(-1, -3, -6, -10, -15)\n",
    "\n",
    "third_element = some_numbers.item(2)\n",
    "third_element"
   ],
   "id": "c49b6b8dbefa482c",
   "outputs": [
    {
     "data": {
      "text/plain": [
       "-6"
      ]
     },
     "execution_count": 17,
     "metadata": {},
     "output_type": "execute_result"
    }
   ],
   "execution_count": 17
  },
  {
   "cell_type": "code",
   "metadata": {
    "deletable": false,
    "editable": false,
    "ExecuteTime": {
     "end_time": "2024-09-09T09:25:40.355136Z",
     "start_time": "2024-09-09T09:25:40.348206Z"
    }
   },
   "source": [
    "grader.check(\"q2_1\")"
   ],
   "id": "ad30b28a8ac55c15",
   "outputs": [
    {
     "data": {
      "text/plain": [
       "q2_1 results: All test cases passed!"
      ],
      "text/html": [
       "<p><strong><pre style='display: inline;'>q2_1</pre></strong> passed! 🌈</p>"
      ]
     },
     "execution_count": 18,
     "metadata": {},
     "output_type": "execute_result"
    }
   ],
   "execution_count": 18
  },
  {
   "cell_type": "markdown",
   "metadata": {},
   "source": [
    "---\n",
    "\n",
    "**Question 2.** The next cell creates a table that displays some information about the elements of `some_numbers` and their order.  Run the cell to see the partially-completed table, then fill in the missing information (the cells that say \"Ellipsis\") by assigning `blank_a`, `blank_b`, `blank_c`, and `blank_d` to the correct elements in the table. **(4 Points)**\n",
    "\n",
    "*Hint:* Replace the `...` with strings or numbers. As a reminder, indices should be **integers**.\n"
   ],
   "id": "5c770b7dca9ad6f1"
  },
  {
   "cell_type": "code",
   "metadata": {
    "for_assignment_type": "student",
    "tags": [],
    "ExecuteTime": {
     "end_time": "2024-09-09T09:31:54.065826Z",
     "start_time": "2024-09-09T09:31:54.060937Z"
    }
   },
   "source": [
    "blank_a = \"third\"\n",
    "blank_b = \"fourth\"\n",
    "blank_c = 0\n",
    "blank_d = 3\n",
    "elements_of_some_numbers = Table().with_columns(\n",
    "    \"English name for position\", make_array(\"first\", \"second\", blank_a, blank_b, \"fifth\"),\n",
    "    \"Index\",                     make_array(blank_c, 1, 2, blank_d, 4),\n",
    "    \"Element\",                   some_numbers)\n",
    "elements_of_some_numbers"
   ],
   "id": "be58b0d55542d9d4",
   "outputs": [
    {
     "data": {
      "text/plain": [
       "English name for position | Index | Element\n",
       "first                     | 0     | -1\n",
       "second                    | 1     | -3\n",
       "third                     | 2     | -6\n",
       "fourth                    | 3     | -10\n",
       "fifth                     | 4     | -15"
      ],
      "text/html": [
       "<table border=\"1\" class=\"dataframe\">\n",
       "    <thead>\n",
       "        <tr>\n",
       "            <th>English name for position</th> <th>Index</th> <th>Element</th>\n",
       "        </tr>\n",
       "    </thead>\n",
       "    <tbody>\n",
       "        <tr>\n",
       "            <td>first                    </td> <td>0    </td> <td>-1     </td>\n",
       "        </tr>\n",
       "        <tr>\n",
       "            <td>second                   </td> <td>1    </td> <td>-3     </td>\n",
       "        </tr>\n",
       "        <tr>\n",
       "            <td>third                    </td> <td>2    </td> <td>-6     </td>\n",
       "        </tr>\n",
       "        <tr>\n",
       "            <td>fourth                   </td> <td>3    </td> <td>-10    </td>\n",
       "        </tr>\n",
       "        <tr>\n",
       "            <td>fifth                    </td> <td>4    </td> <td>-15    </td>\n",
       "        </tr>\n",
       "    </tbody>\n",
       "</table>"
      ]
     },
     "execution_count": 22,
     "metadata": {},
     "output_type": "execute_result"
    }
   ],
   "execution_count": 22
  },
  {
   "cell_type": "code",
   "metadata": {
    "deletable": false,
    "editable": false,
    "ExecuteTime": {
     "end_time": "2024-09-09T09:31:55.021675Z",
     "start_time": "2024-09-09T09:31:55.011976Z"
    }
   },
   "source": [
    "grader.check(\"q2_2\")"
   ],
   "id": "4603ed0f9e0f321c",
   "outputs": [
    {
     "data": {
      "text/plain": [
       "q2_2 results: All test cases passed!"
      ],
      "text/html": [
       "<p><strong><pre style='display: inline;'>q2_2</pre></strong> passed! 🙌</p>"
      ]
     },
     "execution_count": 23,
     "metadata": {},
     "output_type": "execute_result"
    }
   ],
   "execution_count": 23
  },
  {
   "cell_type": "markdown",
   "metadata": {},
   "source": [
    "---\n",
    "\n",
    "**Question 3.** You'll sometimes want to find the **last** element of an array.  Suppose an array has 142 elements.  What is the index of its last element? **(4 Points)**\n",
    "\n",
    "*Note:* Your answer must be a positive number.\n"
   ],
   "id": "78c29b52dbaf2475"
  },
  {
   "cell_type": "code",
   "metadata": {
    "tags": [],
    "ExecuteTime": {
     "end_time": "2024-09-09T09:32:21.526759Z",
     "start_time": "2024-09-09T09:32:21.519990Z"
    }
   },
   "source": "index_of_last_element = 141",
   "id": "efd6e70b04c43661",
   "outputs": [],
   "execution_count": 24
  },
  {
   "cell_type": "code",
   "metadata": {
    "deletable": false,
    "editable": false,
    "ExecuteTime": {
     "end_time": "2024-09-09T09:32:21.908935Z",
     "start_time": "2024-09-09T09:32:21.903812Z"
    }
   },
   "source": [
    "grader.check(\"q2_3\")"
   ],
   "id": "d2045e1d8acb235b",
   "outputs": [
    {
     "data": {
      "text/plain": [
       "q2_3 results: All test cases passed!"
      ],
      "text/html": [
       "<p><strong><pre style='display: inline;'>q2_3</pre></strong> passed! 🌟</p>"
      ]
     },
     "execution_count": 25,
     "metadata": {},
     "output_type": "execute_result"
    }
   ],
   "execution_count": 25
  },
  {
   "cell_type": "markdown",
   "metadata": {},
   "source": [
    "More often, you don't know the number of elements in an array, which is its *length*.  (For example, it might be a large dataset you found on the Internet.)  The function `len` takes a single argument, an array, and returns an integer that represents the `len`gth of that array.\n",
    "\n",
    "---\n",
    "\n",
    "**Question 4.** The cell below loads an array called `president_birth_years`.  Calling `tbl.column(...)` on a table returns an array of the column specified, in this case the `Birth Year` column of the `president_births` table. The last element in that array is the most recent among the birth years of all the deceased Presidents. Assign that year to `most_recent_birth_year`. **(4 Points)**\n",
    "\n",
    "**Note:** Avoid Googling the answer. You should be able to answer this question only using table methods.\n"
   ],
   "id": "ad6c90f607d25987"
  },
  {
   "cell_type": "code",
   "metadata": {
    "tags": [],
    "ExecuteTime": {
     "end_time": "2024-09-09T09:38:39.304119Z",
     "start_time": "2024-09-09T09:38:39.269695Z"
    }
   },
   "source": [
    "president_birth_years = Table.read_table(\"president_births.csv\").column('Birth Year')\n",
    "\n",
    "most_recent_birth_year = president_birth_years[-1]\n",
    "most_recent_birth_year"
   ],
   "id": "f1ed1a3fd2d55109",
   "outputs": [
    {
     "data": {
      "text/plain": [
       "1917"
      ]
     },
     "execution_count": 26,
     "metadata": {},
     "output_type": "execute_result"
    }
   ],
   "execution_count": 26
  },
  {
   "cell_type": "code",
   "metadata": {
    "deletable": false,
    "editable": false,
    "ExecuteTime": {
     "end_time": "2024-09-09T09:38:40.277402Z",
     "start_time": "2024-09-09T09:38:40.270520Z"
    }
   },
   "source": [
    "grader.check(\"q2_4\")"
   ],
   "id": "6484371da71f8977",
   "outputs": [
    {
     "data": {
      "text/plain": [
       "q2_4 results: All test cases passed!"
      ],
      "text/html": [
       "<p><strong><pre style='display: inline;'>q2_4</pre></strong> passed! 🚀</p>"
      ]
     },
     "execution_count": 27,
     "metadata": {},
     "output_type": "execute_result"
    }
   ],
   "execution_count": 27
  },
  {
   "cell_type": "markdown",
   "metadata": {},
   "source": [
    "---\n",
    "\n",
    "**Question 5.** Finally, assign `min_of_birth_years` to the minimum of the first, sixteenth, and last birth years listed in `president_birth_years`. **(4 Points)**\n",
    "\n",
    "**Note:** Use the Python `min` function and table methods to find the answer. Avoid manually calculating the result yourself!\n"
   ],
   "id": "7d2dcecd87289ea8"
  },
  {
   "cell_type": "code",
   "metadata": {
    "tags": [],
    "ExecuteTime": {
     "end_time": "2024-09-09T09:38:56.793411Z",
     "start_time": "2024-09-09T09:38:56.789569Z"
    }
   },
   "source": [
    "min_of_birth_years = min(president_birth_years)\n",
    "min_of_birth_years"
   ],
   "id": "c0a487fe0d9b1e57",
   "outputs": [
    {
     "data": {
      "text/plain": [
       "1732"
      ]
     },
     "execution_count": 28,
     "metadata": {},
     "output_type": "execute_result"
    }
   ],
   "execution_count": 28
  },
  {
   "cell_type": "code",
   "metadata": {
    "deletable": false,
    "editable": false,
    "ExecuteTime": {
     "end_time": "2024-09-09T09:38:57.138689Z",
     "start_time": "2024-09-09T09:38:57.134215Z"
    }
   },
   "source": [
    "grader.check(\"q2_5\")"
   ],
   "id": "106bf53831493aee",
   "outputs": [
    {
     "data": {
      "text/plain": [
       "q2_5 results: All test cases passed!"
      ],
      "text/html": [
       "<p><strong><pre style='display: inline;'>q2_5</pre></strong> passed! 💯</p>"
      ]
     },
     "execution_count": 29,
     "metadata": {},
     "output_type": "execute_result"
    }
   ],
   "execution_count": 29
  },
  {
   "cell_type": "markdown",
   "metadata": {},
   "source": [
    "<hr style=\"border: 5px solid #003262;\" />\n",
    "<hr style=\"border: 1px solid #fdb515;\" />\n",
    "\n",
    "## 3. Basic Array Arithmetic"
   ],
   "id": "2f425e58cf93bf8e"
  },
  {
   "cell_type": "markdown",
   "metadata": {},
   "source": [
    "---\n",
    "\n",
    "**Question 1.** Multiply the numbers 42, -4224, 424224242, and 250 by 157. Assign each variable below such that `first_product` is assigned to the result of $42 * 157$, `second_product` is assigned to the result of $-4224 * 157$, and so on. **(4 Points)**\n",
    "\n",
    "*Note*: For this question, **don't** use arrays.\n"
   ],
   "id": "798472d1608c917e"
  },
  {
   "cell_type": "code",
   "metadata": {
    "tags": [],
    "ExecuteTime": {
     "end_time": "2024-09-09T09:46:46.783049Z",
     "start_time": "2024-09-09T09:46:46.775422Z"
    }
   },
   "source": [
    "first_product = 42 * 157\n",
    "second_product = -4224 * 157\n",
    "third_product = 424224242 * 157\n",
    "fourth_product = 250 * 157\n",
    "print(\"First Product:\", first_product)\n",
    "print(\"Second Product:\", second_product)\n",
    "print(\"Third Product:\", third_product)\n",
    "print(\"Fourth Product:\", fourth_product)"
   ],
   "id": "a8e8ddbf7da1d33",
   "outputs": [
    {
     "name": "stdout",
     "output_type": "stream",
     "text": [
      "First Product: 6594\n",
      "Second Product: -663168\n",
      "Third Product: 66603205994\n",
      "Fourth Product: 39250\n"
     ]
    }
   ],
   "execution_count": 30
  },
  {
   "cell_type": "code",
   "metadata": {
    "deletable": false,
    "editable": false,
    "ExecuteTime": {
     "end_time": "2024-09-09T09:46:47.412123Z",
     "start_time": "2024-09-09T09:46:47.406591Z"
    }
   },
   "source": [
    "grader.check(\"q3_1\")"
   ],
   "id": "36bb1360cff3d669",
   "outputs": [
    {
     "data": {
      "text/plain": [
       "q3_1 results: All test cases passed!"
      ],
      "text/html": [
       "<p><strong><pre style='display: inline;'>q3_1</pre></strong> passed! ✨</p>"
      ]
     },
     "execution_count": 31,
     "metadata": {},
     "output_type": "execute_result"
    }
   ],
   "execution_count": 31
  },
  {
   "cell_type": "markdown",
   "metadata": {},
   "source": [
    "---\n",
    "\n",
    "**Question 2.** Now, do the same calculation, but using an array called `numbers` and only a single multiplication (`*`) operator.  Store the 4 results in an array named `products`. **(4 Points)**\n"
   ],
   "id": "c4fcf51333a0b261"
  },
  {
   "cell_type": "code",
   "metadata": {
    "tags": [],
    "ExecuteTime": {
     "end_time": "2024-09-09T09:47:40.344179Z",
     "start_time": "2024-09-09T09:47:40.339139Z"
    }
   },
   "source": [
    "numbers = make_array(42, -4224, 424224242, 250)\n",
    "products = numbers * 157\n",
    "products"
   ],
   "id": "5a5695f05624f2b1",
   "outputs": [
    {
     "data": {
      "text/plain": [
       "array([       6594,     -663168, 66603205994,       39250])"
      ]
     },
     "execution_count": 32,
     "metadata": {},
     "output_type": "execute_result"
    }
   ],
   "execution_count": 32
  },
  {
   "cell_type": "code",
   "metadata": {
    "deletable": false,
    "editable": false,
    "ExecuteTime": {
     "end_time": "2024-09-09T09:47:42.022727Z",
     "start_time": "2024-09-09T09:47:42.016424Z"
    }
   },
   "source": [
    "grader.check(\"q3_2\")"
   ],
   "id": "1305f71d4f4eaaae",
   "outputs": [
    {
     "data": {
      "text/plain": [
       "q3_2 results: All test cases passed!"
      ],
      "text/html": [
       "<p><strong><pre style='display: inline;'>q3_2</pre></strong> passed! 🍀</p>"
      ]
     },
     "execution_count": 33,
     "metadata": {},
     "output_type": "execute_result"
    }
   ],
   "execution_count": 33
  },
  {
   "cell_type": "markdown",
   "metadata": {},
   "source": [
    "---\n",
    "\n",
    "**Question 3.** Oops, we made a typo!  Instead of 157, we wanted to multiply each number by 1577.  Compute the correct products in the cell below using array arithmetic.  Notice that your job is really easy if you previously defined an array containing the 4 numbers. **(4 Points)**\n"
   ],
   "id": "b099987acbe0e661"
  },
  {
   "cell_type": "code",
   "metadata": {
    "tags": [],
    "ExecuteTime": {
     "end_time": "2024-09-09T09:48:28.759700Z",
     "start_time": "2024-09-09T09:48:28.757115Z"
    }
   },
   "source": [
    "correct_products = numbers.dot(157)\n",
    "correct_products"
   ],
   "id": "f39193fa314d44dc",
   "outputs": [
    {
     "data": {
      "text/plain": [
       "array([       6594,     -663168, 66603205994,       39250])"
      ]
     },
     "execution_count": 34,
     "metadata": {},
     "output_type": "execute_result"
    }
   ],
   "execution_count": 34
  },
  {
   "cell_type": "code",
   "metadata": {
    "deletable": false,
    "editable": false,
    "ExecuteTime": {
     "end_time": "2024-09-09T09:48:29.923398Z",
     "start_time": "2024-09-09T09:48:29.917697Z"
    }
   },
   "source": [
    "grader.check(\"q3_3\")"
   ],
   "id": "3a590037d937fb45",
   "outputs": [
    {
     "data": {
      "text/plain": [
       "q3_3 results: All test cases passed!"
      ],
      "text/html": [
       "<p><strong><pre style='display: inline;'>q3_3</pre></strong> passed! 🍀</p>"
      ]
     },
     "execution_count": 35,
     "metadata": {},
     "output_type": "execute_result"
    }
   ],
   "execution_count": 35
  },
  {
   "cell_type": "markdown",
   "metadata": {},
   "source": [
    "---\n",
    "\n",
    "**Question 4.** We've loaded an array of temperatures in the next cell.  Each number is the highest temperature observed on a day at a climate observation station, mostly from the US.  Since they're from the US government agency [NOAA](https://www.noaa.gov/), all the temperatures are in Fahrenheit.\n",
    "\n",
    "Convert all the temperatures to Celsius by first subtracting 32 from them, then multiplying the results by $\\frac{5}{9}$, i.e. $C = (F - 32) * \\frac{5}{9}$. After converting the temperatures to Celsius, make sure to **ROUND** the final result  to the nearest integer using the `np.round` function. **(4 Points)**\n"
   ],
   "id": "50f9f8347889992e"
  },
  {
   "cell_type": "code",
   "metadata": {
    "tags": [],
    "ExecuteTime": {
     "end_time": "2024-09-09T09:53:08.708151Z",
     "start_time": "2024-09-09T09:53:08.639585Z"
    }
   },
   "source": [
    "max_temperatures = Table.read_table(\"temperatures.csv\").column(\"Daily Max Temperature\")\n",
    "\n",
    "max_temperatures_celsius = (max_temperatures - 32) * 5 / 9\n",
    "celsius_temps_rounded = np.round(max_temperatures_celsius)\n",
    "celsius_temps_rounded"
   ],
   "id": "90589141a69e3fc9",
   "outputs": [
    {
     "data": {
      "text/plain": [
       "array([ -4.,  31.,  32., ...,  17.,  23.,  16.])"
      ]
     },
     "execution_count": 38,
     "metadata": {},
     "output_type": "execute_result"
    }
   ],
   "execution_count": 38
  },
  {
   "cell_type": "code",
   "metadata": {
    "deletable": false,
    "editable": false,
    "ExecuteTime": {
     "end_time": "2024-09-09T09:53:09.357047Z",
     "start_time": "2024-09-09T09:53:09.344157Z"
    }
   },
   "source": [
    "grader.check(\"q3_4\")"
   ],
   "id": "ef183e1d51ae5466",
   "outputs": [
    {
     "data": {
      "text/plain": [
       "q3_4 results: All test cases passed!"
      ],
      "text/html": [
       "<p><strong><pre style='display: inline;'>q3_4</pre></strong> passed! 🎉</p>"
      ]
     },
     "execution_count": 39,
     "metadata": {},
     "output_type": "execute_result"
    }
   ],
   "execution_count": 39
  },
  {
   "cell_type": "markdown",
   "metadata": {},
   "source": [
    "---\n",
    "\n",
    "**Question 5.** The cell below loads all the *lowest* temperatures from each day (in Fahrenheit).  Compute the daily temperature range for each day. That is, compute the difference between each daily maximum temperature and the corresponding daily minimum temperature.  **Pay attention to the units and give your answer in Celsius!** <span style=\"color:red\">Make sure **NOT** to round your answer for this question!</span> **(4 Points)**\n",
    "\n",
    "*Hint:* Use `min_temperatures` and/or `max_temperatures`, and be careful with when you perform your unit conversions. Write out the mathematical computation by hand if you're stuck!\n",
    "\n"
   ],
   "id": "d779cef93d197cf6"
  },
  {
   "cell_type": "code",
   "metadata": {
    "tags": [],
    "ExecuteTime": {
     "end_time": "2024-09-09T10:05:32.367403Z",
     "start_time": "2024-09-09T10:05:32.312662Z"
    }
   },
   "source": [
    "min_temperatures = Table.read_table(\"temperatures.csv\").column(\"Daily Min Temperature\")\n",
    "min_temperatures_celsius = (min_temperatures - 32) * 5 / 9\n",
    "celsius_temperature_ranges = np.abs(min_temperatures_celsius - max_temperatures_celsius)\n",
    "celsius_temperature_ranges"
   ],
   "id": "53a32a7f7dffb05d",
   "outputs": [
    {
     "data": {
      "text/plain": [
       "array([  6.66666667,  10.        ,  12.22222222, ...,  17.22222222,\n",
       "        11.66666667,  11.11111111])"
      ]
     },
     "execution_count": 42,
     "metadata": {},
     "output_type": "execute_result"
    }
   ],
   "execution_count": 42
  },
  {
   "cell_type": "code",
   "metadata": {
    "deletable": false,
    "editable": false,
    "ExecuteTime": {
     "end_time": "2024-09-09T10:05:32.560305Z",
     "start_time": "2024-09-09T10:05:32.549304Z"
    }
   },
   "source": [
    "grader.check(\"q3_5\")"
   ],
   "id": "798c17c61bc527f8",
   "outputs": [
    {
     "data": {
      "text/plain": [
       "q3_5 results: All test cases passed!"
      ],
      "text/html": [
       "<p><strong><pre style='display: inline;'>q3_5</pre></strong> passed! 🌟</p>"
      ]
     },
     "execution_count": 43,
     "metadata": {},
     "output_type": "execute_result"
    }
   ],
   "execution_count": 43
  },
  {
   "cell_type": "markdown",
   "metadata": {},
   "source": [
    "<hr style=\"border: 5px solid #003262;\" />\n",
    "<hr style=\"border: 1px solid #fdb515;\" />\n",
    "\n",
    "## 4. Old Faithful"
   ],
   "id": "1c86513bc3e60493"
  },
  {
   "cell_type": "markdown",
   "metadata": {},
   "source": [
    "Old Faithful is a geyser in Yellowstone that erupts every 44 to 125 minutes (according to [Wikipedia](https://en.wikipedia.org/wiki/Old_Faithful)). People are [often told that the geyser erupts every hour](http://yellowstone.net/geysers/old-faithful/), but in fact the waiting time between eruptions is more variable. Let's take a look."
   ],
   "id": "a8045b7755e3af8e"
  },
  {
   "cell_type": "markdown",
   "metadata": {},
   "source": [
    "---\n",
    "\n",
    "**Question 1.** The first line below assigns `waiting_times` to an array of 272 consecutive waiting times between eruptions, taken from a classic 1938 dataset. Assign the names `shortest`, `longest`, and `average` so that the `print` statement is correct. **(4 Points)**\n"
   ],
   "id": "965f1eef308c8058"
  },
  {
   "cell_type": "code",
   "metadata": {
    "tags": [],
    "ExecuteTime": {
     "end_time": "2024-09-09T10:07:11.408913Z",
     "start_time": "2024-09-09T10:07:11.397899Z"
    }
   },
   "source": [
    "waiting_times = Table.read_table('old_faithful.csv').column('waiting')\n",
    "\n",
    "shortest = np.min(waiting_times)\n",
    "longest = np.max(waiting_times)\n",
    "average = np.average(waiting_times)\n",
    "\n",
    "print(\"Old Faithful erupts every\", shortest, \"to\", longest, \"minutes and every\", average, \"minutes on average.\")"
   ],
   "id": "1d6de1025d786bd3",
   "outputs": [
    {
     "name": "stdout",
     "output_type": "stream",
     "text": [
      "Old Faithful erupts every 43 to 96 minutes and every 70.8970588235 minutes on average.\n"
     ]
    }
   ],
   "execution_count": 44
  },
  {
   "cell_type": "code",
   "metadata": {
    "deletable": false,
    "editable": false,
    "ExecuteTime": {
     "end_time": "2024-09-09T10:07:11.749625Z",
     "start_time": "2024-09-09T10:07:11.743289Z"
    }
   },
   "source": [
    "grader.check(\"q4_1\")"
   ],
   "id": "38420ba7647e40a0",
   "outputs": [
    {
     "data": {
      "text/plain": [
       "q4_1 results: All test cases passed!"
      ],
      "text/html": [
       "<p><strong><pre style='display: inline;'>q4_1</pre></strong> passed! 🚀</p>"
      ]
     },
     "execution_count": 45,
     "metadata": {},
     "output_type": "execute_result"
    }
   ],
   "execution_count": 45
  },
  {
   "cell_type": "markdown",
   "metadata": {},
   "source": [
    "---\n",
    "\n",
    "**Question 2.** Assign `biggest_decrease` to the biggest decrease in waiting time between two consecutive eruptions. For example, the third eruption occurred after 74 minutes and the fourth after 62 minutes, so the decrease in waiting time was 74 - 62 = 12 minutes. **(4 Points)**\n",
    "\n",
    "*Hint*: We want to return the absolute value of the biggest decrease.\n",
    "\n",
    "*Note*: `np.diff()` calculates the difference between subsequent values in an array. For example, calling `np.diff()` on the array `make_array(1, 8, 3, 5)` evaluates to `array([8 - 1, 3 - 8, 5 - 3])`, or `array([7, -5, 2])`.\n"
   ],
   "id": "4ea1bcc26bba29dd"
  },
  {
   "cell_type": "code",
   "metadata": {
    "tags": [],
    "ExecuteTime": {
     "end_time": "2024-09-09T10:08:37.124947Z",
     "start_time": "2024-09-09T10:08:37.107595Z"
    }
   },
   "source": [
    "# np.diff() calculates the difference between subsequent values  \n",
    "# in a NumPy array.\n",
    "differences = np.diff(waiting_times)\n",
    "biggest_decrease = abs(min(differences))\n",
    "biggest_decrease"
   ],
   "id": "6339df4846c70714",
   "outputs": [
    {
     "data": {
      "text/plain": [
       "45"
      ]
     },
     "execution_count": 49,
     "metadata": {},
     "output_type": "execute_result"
    }
   ],
   "execution_count": 49
  },
  {
   "cell_type": "code",
   "metadata": {
    "deletable": false,
    "editable": false,
    "ExecuteTime": {
     "end_time": "2024-09-09T10:08:37.689869Z",
     "start_time": "2024-09-09T10:08:37.683Z"
    }
   },
   "source": [
    "grader.check(\"q4_2\")"
   ],
   "id": "6f1b308e410e57f9",
   "outputs": [
    {
     "data": {
      "text/plain": [
       "q4_2 results: All test cases passed!"
      ],
      "text/html": [
       "<p><strong><pre style='display: inline;'>q4_2</pre></strong> passed! 💯</p>"
      ]
     },
     "execution_count": 50,
     "metadata": {},
     "output_type": "execute_result"
    }
   ],
   "execution_count": 50
  },
  {
   "cell_type": "markdown",
   "metadata": {},
   "source": [
    "---\n",
    "\n",
    "**Question 3.** The `faithful_with_eruption_nums` table contains two columns: `eruption_number`, which represents the number of that eruption, and `waiting`, which represents the time spent waiting after that eruption. For example, take the first two rows of the table:\n",
    "\n",
    "| eruption number | waiting |\n",
    "|-----------------|---------|\n",
    "| 1               | 79      |\n",
    "| 2               | 54      |\n",
    "\n",
    "We can read this as follows: after the first eruption, we waited 79 minutes for the second eruption. Then, after the second eruption, we waited 54 minutes for the third eruption.\n",
    "\n",
    "Suppose Oscar and Wendy started watching Old Faithful at the start of the first eruption. Assume that they watch until the end of the tenth eruption. For some of that time they will be watching eruptions, and for the rest of the time they will be waiting for Old Faithful to erupt. How many minutes will they spend waiting for eruptions? **(4 Points)**\n",
    "\n",
    "*Hint #1:* You can start by using the `take` method on the table `faithful_with_eruption_nums`. \n",
    "\n",
    "*Hint #2:* `first_nine_waiting_times` must be an array.\n"
   ],
   "id": "718ac68a7304618b"
  },
  {
   "cell_type": "code",
   "metadata": {
    "tags": [],
    "ExecuteTime": {
     "end_time": "2024-09-09T10:29:27.060483Z",
     "start_time": "2024-09-09T10:29:27.055731Z"
    }
   },
   "source": [
    "# The following two lines load in our faithful_with_eruption_nums table\n",
    "faithful = Table.read_table('old_faithful.csv').drop(\"eruptions\")\n",
    "faithful_with_eruption_nums = faithful.with_column(\"eruption number\", np.arange(faithful.num_rows) + 1).select(1, 0)\n",
    "\n",
    "first_nine_waiting_times = faithful_with_eruption_nums.column(\"waiting\")[:9]\n",
    "total_waiting_time_until_tenth = np.sum(first_nine_waiting_times)\n",
    "total_waiting_time_until_tenth"
   ],
   "id": "5739c7d49e03cc4d",
   "outputs": [
    {
     "data": {
      "text/plain": [
       "633"
      ]
     },
     "execution_count": 56,
     "metadata": {},
     "output_type": "execute_result"
    }
   ],
   "execution_count": 56
  },
  {
   "cell_type": "code",
   "metadata": {
    "deletable": false,
    "editable": false,
    "ExecuteTime": {
     "end_time": "2024-09-09T10:29:27.426592Z",
     "start_time": "2024-09-09T10:29:27.421658Z"
    }
   },
   "source": [
    "grader.check(\"q4_3\")"
   ],
   "id": "ee18d87c89e916e4",
   "outputs": [
    {
     "data": {
      "text/plain": [
       "q4_3 results: All test cases passed!"
      ],
      "text/html": [
       "<p><strong><pre style='display: inline;'>q4_3</pre></strong> passed! 🌈</p>"
      ]
     },
     "execution_count": 57,
     "metadata": {},
     "output_type": "execute_result"
    }
   ],
   "execution_count": 57
  },
  {
   "cell_type": "markdown",
   "metadata": {},
   "source": [
    "---\n",
    "\n",
    "**Question 4.** Let’s imagine your guess for the next waiting time was always just the length of the previous waiting time. If you always guessed the previous waiting time, how big would your error in guessing the waiting times be, on average? **(4 Points)**\n",
    "\n",
    "For example, since the first four waiting times are 79, 54, 74, and 62, the average difference between your guess and the actual time for just the second, third, and fourth eruptions would be $\\frac{|79-54|+ |54-74|+ |74-62|}{3} = 19$.\n"
   ],
   "id": "8820492f0f352f55"
  },
  {
   "cell_type": "code",
   "metadata": {
    "tags": [],
    "ExecuteTime": {
     "end_time": "2024-09-09T10:31:17.350686Z",
     "start_time": "2024-09-09T10:31:17.346927Z"
    }
   },
   "source": [
    "differences = np.diff(waiting_times)\n",
    "average_error = np.average(abs(differences))\n",
    "average_error"
   ],
   "id": "9509f2eb66bc4b6a",
   "outputs": [
    {
     "data": {
      "text/plain": [
       "20.520295202952031"
      ]
     },
     "execution_count": 60,
     "metadata": {},
     "output_type": "execute_result"
    }
   ],
   "execution_count": 60
  },
  {
   "cell_type": "code",
   "metadata": {
    "deletable": false,
    "editable": false,
    "ExecuteTime": {
     "end_time": "2024-09-09T10:31:17.671344Z",
     "start_time": "2024-09-09T10:31:17.666160Z"
    }
   },
   "source": [
    "grader.check(\"q4_4\")"
   ],
   "id": "16eb868341461b12",
   "outputs": [
    {
     "data": {
      "text/plain": [
       "q4_4 results: All test cases passed!"
      ],
      "text/html": [
       "<p><strong><pre style='display: inline;'>q4_4</pre></strong> passed! 💯</p>"
      ]
     },
     "execution_count": 61,
     "metadata": {},
     "output_type": "execute_result"
    }
   ],
   "execution_count": 61
  },
  {
   "cell_type": "markdown",
   "metadata": {},
   "source": [
    "<hr style=\"border: 5px solid #003262;\" />\n",
    "<hr style=\"border: 1px solid #fdb515;\" />\n",
    "\n",
    "## 5. Tables"
   ],
   "id": "1daeb279c817dcd3"
  },
  {
   "cell_type": "markdown",
   "metadata": {},
   "source": [
    "---\n",
    "\n",
    "**Question 1.** Suppose you have 4 apples, 3 oranges, and 3 pineapples.  (Perhaps you're using Python to solve a high school Algebra problem.)  Create a table that contains this information.  It should have two columns: `fruit name` and `amount`.  Assign the new table to the variable `fruits`. **(4 Points)**\n",
    "\n",
    "*Note:* Use lower-case and singular words for the name of each fruit, like `\"apple\"`.\n"
   ],
   "id": "891ebc1b672c8d"
  },
  {
   "cell_type": "code",
   "metadata": {
    "tags": [],
    "ExecuteTime": {
     "end_time": "2024-09-09T10:47:09.483696Z",
     "start_time": "2024-09-09T10:47:09.469491Z"
    }
   },
   "source": [
    "# Our solution uses 1 statement split over 3 lines.\n",
    "fruits = Table().with_columns(\n",
    "    \"fruit name\", make_array(\"apple\", \"orange\", \"pineapple\"),\n",
    "    \"amount\", make_array(4, 3, 3)\n",
    ")\n",
    "fruits"
   ],
   "id": "4889fb890a82b5db",
   "outputs": [
    {
     "data": {
      "text/plain": [
       "fruit name | amount\n",
       "apple      | 4\n",
       "orange     | 3\n",
       "pineapple  | 3"
      ],
      "text/html": [
       "<table border=\"1\" class=\"dataframe\">\n",
       "    <thead>\n",
       "        <tr>\n",
       "            <th>fruit name</th> <th>amount</th>\n",
       "        </tr>\n",
       "    </thead>\n",
       "    <tbody>\n",
       "        <tr>\n",
       "            <td>apple     </td> <td>4     </td>\n",
       "        </tr>\n",
       "        <tr>\n",
       "            <td>orange    </td> <td>3     </td>\n",
       "        </tr>\n",
       "        <tr>\n",
       "            <td>pineapple </td> <td>3     </td>\n",
       "        </tr>\n",
       "    </tbody>\n",
       "</table>"
      ]
     },
     "execution_count": 64,
     "metadata": {},
     "output_type": "execute_result"
    }
   ],
   "execution_count": 64
  },
  {
   "cell_type": "code",
   "metadata": {
    "deletable": false,
    "editable": false,
    "ExecuteTime": {
     "end_time": "2024-09-09T10:47:09.752940Z",
     "start_time": "2024-09-09T10:47:09.738170Z"
    }
   },
   "source": [
    "grader.check(\"q5_1\")"
   ],
   "id": "cf422d5375454dcd",
   "outputs": [
    {
     "data": {
      "text/plain": [
       "q5_1 results: All test cases passed!"
      ],
      "text/html": [
       "<p><strong><pre style='display: inline;'>q5_1</pre></strong> passed! 💯</p>"
      ]
     },
     "execution_count": 65,
     "metadata": {},
     "output_type": "execute_result"
    }
   ],
   "execution_count": 65
  },
  {
   "cell_type": "markdown",
   "metadata": {},
   "source": [
    "---\n",
    "\n",
    "**Question 2.** The file `inventory.csv` contains information about the inventory at a fruit stand.  Each row represents the contents of one box of fruit. Load it as a table named `inventory` using the `Table.read_table()` function. `Table.read_table(...)` takes one argument (data file name in string format) and returns a table. **(4 Points)**\n"
   ],
   "id": "d0438602bf9663c7"
  },
  {
   "cell_type": "code",
   "metadata": {
    "tags": [],
    "ExecuteTime": {
     "end_time": "2024-09-09T10:47:32.242302Z",
     "start_time": "2024-09-09T10:47:32.233989Z"
    }
   },
   "source": [
    "inventory = Table.read_table(\"inventory.csv\")\n",
    "inventory"
   ],
   "id": "af313b2a3c59b72d",
   "outputs": [
    {
     "data": {
      "text/plain": [
       "box ID | fruit name | count\n",
       "53686  | kiwi       | 45\n",
       "57181  | strawberry | 123\n",
       "25274  | apple      | 20\n",
       "48800  | orange     | 35\n",
       "26187  | strawberry | 255\n",
       "57930  | grape      | 517\n",
       "52357  | strawberry | 102\n",
       "43566  | peach      | 40"
      ],
      "text/html": [
       "<table border=\"1\" class=\"dataframe\">\n",
       "    <thead>\n",
       "        <tr>\n",
       "            <th>box ID</th> <th>fruit name</th> <th>count</th>\n",
       "        </tr>\n",
       "    </thead>\n",
       "    <tbody>\n",
       "        <tr>\n",
       "            <td>53686 </td> <td>kiwi      </td> <td>45   </td>\n",
       "        </tr>\n",
       "        <tr>\n",
       "            <td>57181 </td> <td>strawberry</td> <td>123  </td>\n",
       "        </tr>\n",
       "        <tr>\n",
       "            <td>25274 </td> <td>apple     </td> <td>20   </td>\n",
       "        </tr>\n",
       "        <tr>\n",
       "            <td>48800 </td> <td>orange    </td> <td>35   </td>\n",
       "        </tr>\n",
       "        <tr>\n",
       "            <td>26187 </td> <td>strawberry</td> <td>255  </td>\n",
       "        </tr>\n",
       "        <tr>\n",
       "            <td>57930 </td> <td>grape     </td> <td>517  </td>\n",
       "        </tr>\n",
       "        <tr>\n",
       "            <td>52357 </td> <td>strawberry</td> <td>102  </td>\n",
       "        </tr>\n",
       "        <tr>\n",
       "            <td>43566 </td> <td>peach     </td> <td>40   </td>\n",
       "        </tr>\n",
       "    </tbody>\n",
       "</table>"
      ]
     },
     "execution_count": 66,
     "metadata": {},
     "output_type": "execute_result"
    }
   ],
   "execution_count": 66
  },
  {
   "cell_type": "code",
   "metadata": {
    "deletable": false,
    "editable": false,
    "ExecuteTime": {
     "end_time": "2024-09-09T10:48:07.591453Z",
     "start_time": "2024-09-09T10:48:07.579939Z"
    }
   },
   "source": [
    "grader.check(\"q5_2\")"
   ],
   "id": "cfbe3ce4ad646f2d",
   "outputs": [
    {
     "data": {
      "text/plain": [
       "q5_2 results: All test cases passed!"
      ],
      "text/html": [
       "<p><strong><pre style='display: inline;'>q5_2</pre></strong> passed! ✨</p>"
      ]
     },
     "execution_count": 68,
     "metadata": {},
     "output_type": "execute_result"
    }
   ],
   "execution_count": 68
  },
  {
   "cell_type": "markdown",
   "metadata": {},
   "source": [
    "---\n",
    "\n",
    "**Question 3.** Does each box at the fruit stand contain a different fruit? Set `all_different` to `True` if each box contains a different fruit or to `False` if multiple boxes contain the same fruit. **(4 Points)**\n",
    "\n",
    "*Hint:* You don't have to write code to calculate the True/False value for `all_different`. Just look at the `inventory` table and assign `all_different` to either `True` or `False` according to what you can see from the table in answering the question.\n"
   ],
   "id": "aaf93b3132e273f1"
  },
  {
   "cell_type": "code",
   "metadata": {
    "tags": [],
    "ExecuteTime": {
     "end_time": "2024-09-09T10:50:32.234466Z",
     "start_time": "2024-09-09T10:50:32.229889Z"
    }
   },
   "source": [
    "all_different = False\n",
    "all_different"
   ],
   "id": "96347f7b9aa8df1",
   "outputs": [
    {
     "data": {
      "text/plain": [
       "False"
      ]
     },
     "execution_count": 69,
     "metadata": {},
     "output_type": "execute_result"
    }
   ],
   "execution_count": 69
  },
  {
   "cell_type": "code",
   "metadata": {
    "deletable": false,
    "editable": false,
    "ExecuteTime": {
     "end_time": "2024-09-09T10:50:32.553034Z",
     "start_time": "2024-09-09T10:50:32.545178Z"
    }
   },
   "source": [
    "grader.check(\"q5_3\")"
   ],
   "id": "45a5bdc3f62e2fdb",
   "outputs": [
    {
     "data": {
      "text/plain": [
       "q5_3 results: All test cases passed!"
      ],
      "text/html": [
       "<p><strong><pre style='display: inline;'>q5_3</pre></strong> passed! 🙌</p>"
      ]
     },
     "execution_count": 70,
     "metadata": {},
     "output_type": "execute_result"
    }
   ],
   "execution_count": 70
  },
  {
   "cell_type": "markdown",
   "metadata": {},
   "source": [
    "---\n",
    "\n",
    "**Question 4.** The file `sales.csv` contains the number of fruit sold from each box last Saturday.  It has an extra column called `price per fruit ($)` that's the price *per item of fruit* for fruit in that box.  The rows are in the same order as the `inventory` table.  Load these data into a table called `sales`. **(5 Points)**\n"
   ],
   "id": "2f33400535f8a76a"
  },
  {
   "cell_type": "code",
   "metadata": {
    "tags": [],
    "ExecuteTime": {
     "end_time": "2024-09-09T10:50:56.680364Z",
     "start_time": "2024-09-09T10:50:56.669752Z"
    }
   },
   "source": [
    "sales = Table.read_table(\"sales.csv\")\n",
    "sales"
   ],
   "id": "f834b3c8cb03296c",
   "outputs": [
    {
     "data": {
      "text/plain": [
       "box ID | fruit name | count sold | price per fruit ($)\n",
       "53686  | kiwi       | 3          | 0.5\n",
       "57181  | strawberry | 101        | 0.2\n",
       "25274  | apple      | 0          | 0.8\n",
       "48800  | orange     | 35         | 0.6\n",
       "26187  | strawberry | 25         | 0.15\n",
       "57930  | grape      | 355        | 0.06\n",
       "52357  | strawberry | 102        | 0.25\n",
       "43566  | peach      | 17         | 0.8"
      ],
      "text/html": [
       "<table border=\"1\" class=\"dataframe\">\n",
       "    <thead>\n",
       "        <tr>\n",
       "            <th>box ID</th> <th>fruit name</th> <th>count sold</th> <th>price per fruit ($)</th>\n",
       "        </tr>\n",
       "    </thead>\n",
       "    <tbody>\n",
       "        <tr>\n",
       "            <td>53686 </td> <td>kiwi      </td> <td>3         </td> <td>0.5                </td>\n",
       "        </tr>\n",
       "        <tr>\n",
       "            <td>57181 </td> <td>strawberry</td> <td>101       </td> <td>0.2                </td>\n",
       "        </tr>\n",
       "        <tr>\n",
       "            <td>25274 </td> <td>apple     </td> <td>0         </td> <td>0.8                </td>\n",
       "        </tr>\n",
       "        <tr>\n",
       "            <td>48800 </td> <td>orange    </td> <td>35        </td> <td>0.6                </td>\n",
       "        </tr>\n",
       "        <tr>\n",
       "            <td>26187 </td> <td>strawberry</td> <td>25        </td> <td>0.15               </td>\n",
       "        </tr>\n",
       "        <tr>\n",
       "            <td>57930 </td> <td>grape     </td> <td>355       </td> <td>0.06               </td>\n",
       "        </tr>\n",
       "        <tr>\n",
       "            <td>52357 </td> <td>strawberry</td> <td>102       </td> <td>0.25               </td>\n",
       "        </tr>\n",
       "        <tr>\n",
       "            <td>43566 </td> <td>peach     </td> <td>17        </td> <td>0.8                </td>\n",
       "        </tr>\n",
       "    </tbody>\n",
       "</table>"
      ]
     },
     "execution_count": 71,
     "metadata": {},
     "output_type": "execute_result"
    }
   ],
   "execution_count": 71
  },
  {
   "cell_type": "code",
   "metadata": {
    "deletable": false,
    "editable": false,
    "ExecuteTime": {
     "end_time": "2024-09-09T10:50:56.891892Z",
     "start_time": "2024-09-09T10:50:56.886019Z"
    }
   },
   "source": [
    "grader.check(\"q5_4\")"
   ],
   "id": "eab49706e9bd734a",
   "outputs": [
    {
     "data": {
      "text/plain": [
       "q5_4 results: All test cases passed!"
      ],
      "text/html": [
       "<p><strong><pre style='display: inline;'>q5_4</pre></strong> passed! 🌟</p>"
      ]
     },
     "execution_count": 72,
     "metadata": {},
     "output_type": "execute_result"
    }
   ],
   "execution_count": 72
  },
  {
   "cell_type": "markdown",
   "metadata": {},
   "source": [
    "---\n",
    "\n",
    "**Question 5.** How many fruits did the store sell in total on that day? **(5 Points)**\n"
   ],
   "id": "fe9d6463b0ea0266"
  },
  {
   "cell_type": "code",
   "metadata": {
    "tags": [],
    "ExecuteTime": {
     "end_time": "2024-09-09T10:51:46.986519Z",
     "start_time": "2024-09-09T10:51:46.980035Z"
    }
   },
   "source": [
    "total_fruits_sold = np.sum(sales.column(\"count sold\"))\n",
    "total_fruits_sold"
   ],
   "id": "11f3f91f0f98be95",
   "outputs": [
    {
     "data": {
      "text/plain": [
       "638"
      ]
     },
     "execution_count": 73,
     "metadata": {},
     "output_type": "execute_result"
    }
   ],
   "execution_count": 73
  },
  {
   "cell_type": "code",
   "metadata": {
    "deletable": false,
    "editable": false,
    "ExecuteTime": {
     "end_time": "2024-09-09T10:51:47.622310Z",
     "start_time": "2024-09-09T10:51:47.615362Z"
    }
   },
   "source": [
    "grader.check(\"q5_5\")"
   ],
   "id": "35afe56235660609",
   "outputs": [
    {
     "data": {
      "text/plain": [
       "q5_5 results: All test cases passed!"
      ],
      "text/html": [
       "<p><strong><pre style='display: inline;'>q5_5</pre></strong> passed! 🎉</p>"
      ]
     },
     "execution_count": 74,
     "metadata": {},
     "output_type": "execute_result"
    }
   ],
   "execution_count": 74
  },
  {
   "cell_type": "markdown",
   "metadata": {},
   "source": [
    "---\n",
    "\n",
    "**Question 6.** What was the store's total revenue (the total price of all fruits sold) on that day? **(5 Points)**\n",
    "\n",
    "*Hint:* If you're stuck, think first about how you would compute the total revenue from just the grape sales.\n"
   ],
   "id": "a7ac316e7a37a2e5"
  },
  {
   "cell_type": "code",
   "metadata": {
    "tags": [],
    "ExecuteTime": {
     "end_time": "2024-09-09T10:52:58.963640Z",
     "start_time": "2024-09-09T10:52:58.959688Z"
    }
   },
   "source": [
    "total_revenue = np.sum(sales.column(\"count sold\") * sales.column(\"price per fruit ($)\"))\n",
    "total_revenue"
   ],
   "id": "c505efdd35cd12ed",
   "outputs": [
    {
     "data": {
      "text/plain": [
       "106.85000000000001"
      ]
     },
     "execution_count": 75,
     "metadata": {},
     "output_type": "execute_result"
    }
   ],
   "execution_count": 75
  },
  {
   "cell_type": "code",
   "metadata": {
    "deletable": false,
    "editable": false,
    "ExecuteTime": {
     "end_time": "2024-09-09T10:53:00.136402Z",
     "start_time": "2024-09-09T10:53:00.129755Z"
    }
   },
   "source": [
    "grader.check(\"q5_6\")"
   ],
   "id": "e6f656a05dbe9c60",
   "outputs": [
    {
     "data": {
      "text/plain": [
       "q5_6 results: All test cases passed!"
      ],
      "text/html": [
       "<p><strong><pre style='display: inline;'>q5_6</pre></strong> passed! 🙌</p>"
      ]
     },
     "execution_count": 76,
     "metadata": {},
     "output_type": "execute_result"
    }
   ],
   "execution_count": 76
  },
  {
   "cell_type": "markdown",
   "metadata": {},
   "source": [
    "---\n",
    "\n",
    "**Question 7.** Make a new table called `remaining_inventory`.  It should have the same rows and columns as `inventory`, except that the amount of fruit sold from each box should be subtracted from that box's **original** count, so that the `count` column is **updated to be** the amount of fruit remaining after Saturday. **(5 Points)**\n"
   ],
   "id": "76afcc1293adce5f"
  },
  {
   "cell_type": "code",
   "metadata": {
    "tags": [],
    "ExecuteTime": {
     "end_time": "2024-09-09T10:55:44.662986Z",
     "start_time": "2024-09-09T10:55:44.655497Z"
    }
   },
   "source": [
    "remaining_inventory = inventory.with_column(\n",
    "    \"count\", inventory.column(\"count\") - sales.column(\"count sold\")\n",
    ")\n",
    "\n",
    "remaining_inventory"
   ],
   "id": "211da516a85243dd",
   "outputs": [
    {
     "data": {
      "text/plain": [
       "box ID | fruit name | count\n",
       "53686  | kiwi       | 42\n",
       "57181  | strawberry | 22\n",
       "25274  | apple      | 20\n",
       "48800  | orange     | 0\n",
       "26187  | strawberry | 230\n",
       "57930  | grape      | 162\n",
       "52357  | strawberry | 0\n",
       "43566  | peach      | 23"
      ],
      "text/html": [
       "<table border=\"1\" class=\"dataframe\">\n",
       "    <thead>\n",
       "        <tr>\n",
       "            <th>box ID</th> <th>fruit name</th> <th>count</th>\n",
       "        </tr>\n",
       "    </thead>\n",
       "    <tbody>\n",
       "        <tr>\n",
       "            <td>53686 </td> <td>kiwi      </td> <td>42   </td>\n",
       "        </tr>\n",
       "        <tr>\n",
       "            <td>57181 </td> <td>strawberry</td> <td>22   </td>\n",
       "        </tr>\n",
       "        <tr>\n",
       "            <td>25274 </td> <td>apple     </td> <td>20   </td>\n",
       "        </tr>\n",
       "        <tr>\n",
       "            <td>48800 </td> <td>orange    </td> <td>0    </td>\n",
       "        </tr>\n",
       "        <tr>\n",
       "            <td>26187 </td> <td>strawberry</td> <td>230  </td>\n",
       "        </tr>\n",
       "        <tr>\n",
       "            <td>57930 </td> <td>grape     </td> <td>162  </td>\n",
       "        </tr>\n",
       "        <tr>\n",
       "            <td>52357 </td> <td>strawberry</td> <td>0    </td>\n",
       "        </tr>\n",
       "        <tr>\n",
       "            <td>43566 </td> <td>peach     </td> <td>23   </td>\n",
       "        </tr>\n",
       "    </tbody>\n",
       "</table>"
      ]
     },
     "execution_count": 78,
     "metadata": {},
     "output_type": "execute_result"
    }
   ],
   "execution_count": 78
  },
  {
   "cell_type": "code",
   "metadata": {
    "deletable": false,
    "editable": false,
    "ExecuteTime": {
     "end_time": "2024-09-09T10:55:46.386966Z",
     "start_time": "2024-09-09T10:55:46.377225Z"
    }
   },
   "source": [
    "grader.check(\"q5_7\")"
   ],
   "id": "97ead74d45333d1c",
   "outputs": [
    {
     "data": {
      "text/plain": [
       "q5_7 results: All test cases passed!"
      ],
      "text/html": [
       "<p><strong><pre style='display: inline;'>q5_7</pre></strong> passed! ✨</p>"
      ]
     },
     "execution_count": 79,
     "metadata": {},
     "output_type": "execute_result"
    }
   ],
   "execution_count": 79
  },
  {
   "attachments": {},
   "cell_type": "markdown",
   "metadata": {},
   "source": [
    "You're done with Homework 2!  \n",
    "\n",
    "**Important submission information:** Be sure to run the tests and verify that they all pass, then choose **Save Notebook** from the **File** menu, then **run the final cell** and click the link to download the zip file. Then, go to [Gradescope](https://www.gradescope.com) and submit the zip file to the corresponding assignment. The name of this assignment is \"Homework 02 Autograder\". **It is your responsibility to make sure your work is saved before running the last cell.**\n",
    "\n",
    "Once you have submitted, your Gradescope assignment should show you passing all the tests you passed in your assignment notebook."
   ],
   "id": "8520a40e22f834a2"
  },
  {
   "attachments": {},
   "cell_type": "markdown",
   "metadata": {},
   "source": [
    "## Pets of Data 8\n",
    "**Nico** says congrats on finishing homework 2!\n",
    "\n",
    "<img src=\"./nico.jpg\" width=\"40%\" alt=\"White kitten staring at the camera while being carried by someone with pink acrylic nails\"/>"
   ],
   "id": "111ff12318ddfeb7"
  },
  {
   "cell_type": "markdown",
   "metadata": {
    "deletable": false,
    "editable": false
   },
   "source": [
    "## Submission\n",
    "\n",
    "Make sure you have run all cells in your notebook in order before running the cell below, so that all images/graphs appear in the output. The cell below will generate a zip file for you to submit. **Please save before exporting!**"
   ],
   "id": "d0f655a63a4711b2"
  },
  {
   "cell_type": "code",
   "metadata": {
    "deletable": false,
    "editable": false,
    "ExecuteTime": {
     "end_time": "2024-09-09T10:56:03.565638Z",
     "start_time": "2024-09-09T10:55:59.554671Z"
    }
   },
   "source": [
    "# Save your notebook first, then run this cell to export your submission.\n",
    "grader.export(pdf=False, run_tests=True)"
   ],
   "id": "4be4c218866fbc6b",
   "outputs": [
    {
     "name": "stdout",
     "output_type": "stream",
     "text": [
      "Running your submission against local test cases...\n",
      "\n",
      "\n",
      "Your submission received the following results when run against available test cases:\n",
      "\n",
      "    q1_1 results: All test cases passed!\n",
      "\n",
      "    q1_2 results: All test cases passed!\n",
      "\n",
      "    q1_3 results: All test cases passed!\n",
      "\n",
      "    q2_1 results: All test cases passed!\n",
      "\n",
      "    q2_2 results: All test cases passed!\n",
      "\n",
      "    q2_3 results: All test cases passed!\n",
      "\n",
      "    q2_4 results: All test cases passed!\n",
      "\n",
      "    q2_5 results: All test cases passed!\n",
      "\n",
      "    q3_1 results: All test cases passed!\n",
      "\n",
      "    q3_2 results: All test cases passed!\n",
      "\n",
      "    q3_3 results: All test cases passed!\n",
      "\n",
      "    q3_4 results: All test cases passed!\n",
      "\n",
      "    q3_5 results: All test cases passed!\n",
      "\n",
      "    q4_1 results: All test cases passed!\n",
      "\n",
      "    q4_2 results: All test cases passed!\n",
      "\n",
      "    q4_3 results: All test cases passed!\n",
      "\n",
      "    q4_4 results: All test cases passed!\n",
      "\n",
      "    q5_1 results: All test cases passed!\n",
      "\n",
      "    q5_2 results: All test cases passed!\n",
      "\n",
      "    q5_3 results: All test cases passed!\n",
      "\n",
      "    q5_4 results: All test cases passed!\n",
      "\n",
      "    q5_5 results: All test cases passed!\n",
      "\n",
      "    q5_6 results: All test cases passed!\n",
      "\n",
      "    q5_7 results: All test cases passed!\n"
     ]
    },
    {
     "data": {
      "text/plain": [
       "<IPython.core.display.HTML object>"
      ],
      "text/html": [
       "\n",
       "                    <p>\n",
       "                        Your submission has been exported. Click\n",
       "                        <a href=\"hw02_2024_09_09T20_55_59_557346.zip\" download=\"hw02_2024_09_09T20_55_59_557346.zip\" target=\"_blank\">here</a> to download\n",
       "                        the zip file.\n",
       "                    </p>\n",
       "                "
      ]
     },
     "metadata": {},
     "output_type": "display_data"
    }
   ],
   "execution_count": 80
  },
  {
   "cell_type": "markdown",
   "metadata": {},
   "source": [
    " "
   ],
   "id": "fecf527346bb4035"
  }
 ],
 "metadata": {
  "kernelspec": {
   "display_name": "data8",
   "language": "python",
   "name": "data8"
  },
  "language_info": {
   "codemirror_mode": {
    "name": "ipython",
    "version": 3
   },
   "file_extension": ".py",
   "mimetype": "text/x-python",
   "name": "python",
   "nbconvert_exporter": "python",
   "pygments_lexer": "ipython3",
   "version": "3.12.5"
  },
  "otter": {
   "OK_FORMAT": true,
   "tests": {
    "q1_1": {
     "name": "q1_1",
     "points": [
      0,
      0
     ],
     "suites": [
      {
       "cases": [
        {
         "code": ">>> import numpy as np\n>>> # It looks like you didn't make an array.\n>>> type(weird_numbers) == np.ndarray\nTrue",
         "hidden": false,
         "locked": false
        },
        {
         "code": ">>> len(weird_numbers) == 4\nTrue",
         "hidden": false,
         "locked": false
        }
       ],
       "scored": true,
       "setup": "",
       "teardown": "",
       "type": "doctest"
      }
     ]
    },
    "q1_2": {
     "name": "q1_2",
     "points": [
      0,
      0,
      0,
      0,
      4
     ],
     "suites": [
      {
       "cases": [
        {
         "code": ">>> import numpy as np\n>>> # It looks like you didn't make an array.\n>>> type(book_title_words) == np.ndarray\nTrue",
         "hidden": false,
         "locked": false
        },
        {
         "code": ">>> # It looks like you included commas in the text.\n>>> # The three pieces of text in the array should be:\n>>> #   \"Eats\"\n>>> #   \"Shoots\"\n>>> #   \"and Leaves\"\n>>> not any([',' in text for text in book_title_words])\nTrue",
         "hidden": false,
         "locked": false
        },
        {
         "code": ">>> # It looks like you didn't include both words in the\n>>> # last piece of text.  It should be the actual string:\n>>> #   \"and Leaves\"\n>>> 'and ' in book_title_words.item(2)\nTrue",
         "hidden": false,
         "locked": false
        },
        {
         "code": ">>> len(book_title_words)\n3",
         "hidden": false,
         "locked": false
        },
        {
         "code": ">>> book_title_words.item(0) == 'Eats' and book_title_words.item(1) == 'Shoots' and book_title_words.item(2) == 'and Leaves'\nTrue",
         "hidden": false,
         "locked": false
        }
       ],
       "scored": true,
       "setup": "",
       "teardown": "",
       "type": "doctest"
      }
     ]
    },
    "q1_3": {
     "name": "q1_3",
     "points": [
      2,
      2
     ],
     "suites": [
      {
       "cases": [
        {
         "code": ">>> with_commas == 'Eats, Shoots, and Leaves'\nTrue",
         "hidden": false,
         "locked": false
        },
        {
         "code": ">>> without_commas == 'Eats Shoots and Leaves'\nTrue",
         "hidden": false,
         "locked": false
        }
       ],
       "scored": true,
       "setup": "",
       "teardown": "",
       "type": "doctest"
      }
     ]
    },
    "q2_1": {
     "name": "q2_1",
     "points": [
      0,
      4
     ],
     "suites": [
      {
       "cases": [
        {
         "code": ">>> # It looks like you wrote:\n>>> #   some_numbers.item(3)\n>>> # But the third element has index 2, not 3.\n>>> third_element != -10\nTrue",
         "hidden": false,
         "locked": false
        },
        {
         "code": ">>> third_element == -6\nTrue",
         "hidden": false,
         "locked": false
        }
       ],
       "scored": true,
       "setup": "",
       "teardown": "",
       "type": "doctest"
      }
     ]
    },
    "q2_2": {
     "name": "q2_2",
     "points": [
      1,
      1,
      1,
      1
     ],
     "suites": [
      {
       "cases": [
        {
         "code": ">>> elements_of_some_numbers.column(0).item(2) == \"third\"\nTrue",
         "hidden": false,
         "locked": false
        },
        {
         "code": ">>> elements_of_some_numbers.column(0).item(3) == \"fourth\"\nTrue",
         "hidden": false,
         "locked": false
        },
        {
         "code": ">>> elements_of_some_numbers.column(1).item(0) == 0\nTrue",
         "hidden": false,
         "locked": false
        },
        {
         "code": ">>> elements_of_some_numbers.column(1).item(3) == 3\nTrue",
         "hidden": false,
         "locked": false
        }
       ],
       "scored": true,
       "setup": "",
       "teardown": "",
       "type": "doctest"
      }
     ]
    },
    "q2_3": {
     "name": "q2_3",
     "points": [
      0
     ],
     "suites": [
      {
       "cases": [
        {
         "code": ">>> # Make sure that you assign index_of_last_element to an index (integer), \n>>> # not the value at that index\n>>> type(index_of_last_element) == int\nTrue",
         "hidden": false,
         "locked": false
        }
       ],
       "scored": true,
       "setup": "",
       "teardown": "",
       "type": "doctest"
      }
     ]
    },
    "q2_4": {
     "name": "q2_4",
     "points": [
      4
     ],
     "suites": [
      {
       "cases": [
        {
         "code": ">>> most_recent_birth_year == 1917\nTrue",
         "hidden": false,
         "locked": false
        }
       ],
       "scored": true,
       "setup": "",
       "teardown": "",
       "type": "doctest"
      }
     ]
    },
    "q2_5": {
     "name": "q2_5",
     "points": [
      0
     ],
     "suites": [
      {
       "cases": [
        {
         "code": ">>> min_of_birth_years > 0\nTrue",
         "hidden": false,
         "locked": false
        }
       ],
       "scored": true,
       "setup": "",
       "teardown": "",
       "type": "doctest"
      }
     ]
    },
    "q3_1": {
     "name": "q3_1",
     "points": [
      0
     ],
     "suites": [
      {
       "cases": [
        {
         "code": ">>> first_product > 0, second_product < 0, third_product > 0, fourth_product > 0\n(True, True, True, True)",
         "hidden": false,
         "locked": false
        }
       ],
       "scored": true,
       "setup": "",
       "teardown": "",
       "type": "doctest"
      }
     ]
    },
    "q3_2": {
     "name": "q3_2",
     "points": [
      0
     ],
     "suites": [
      {
       "cases": [
        {
         "code": ">>> # products should be an array!\n>>> len(products) == 4\nTrue",
         "hidden": false,
         "locked": false
        }
       ],
       "scored": true,
       "setup": "",
       "teardown": "",
       "type": "doctest"
      }
     ]
    },
    "q3_3": {
     "name": "q3_3",
     "points": [
      0
     ],
     "suites": [
      {
       "cases": [
        {
         "code": ">>> len(correct_products) == 4\nTrue",
         "hidden": false,
         "locked": false
        }
       ],
       "scored": true,
       "setup": "",
       "teardown": "",
       "type": "doctest"
      }
     ]
    },
    "q3_4": {
     "name": "q3_4",
     "points": [
      1,
      1,
      1,
      1
     ],
     "suites": [
      {
       "cases": [
        {
         "code": ">>> # It looks like you multiplied and subtracted in the wrong\n>>> # order.\n>>> sum(celsius_temps_rounded) != 356705.0\nTrue",
         "hidden": false,
         "locked": false
        },
        {
         "code": ">>> # Don't forget to round your final results\n>>> celsius_temps_rounded.item(1) == 31.0\nTrue",
         "hidden": false,
         "locked": false
        },
        {
         "code": ">>> sum(celsius_temps_rounded)\n1280677.0",
         "hidden": false,
         "locked": false
        },
        {
         "code": ">>> len(celsius_temps_rounded)\n65000",
         "hidden": false,
         "locked": false
        }
       ],
       "scored": true,
       "setup": "",
       "teardown": "",
       "type": "doctest"
      }
     ]
    },
    "q3_5": {
     "name": "q3_5",
     "points": [
      0,
      0,
      4,
      0
     ],
     "suites": [
      {
       "cases": [
        {
         "code": ">>> # celsius_temperature_ranges should be an array\n>>> type(celsius_temperature_ranges) is np.ndarray\nTrue",
         "hidden": false,
         "locked": false
        },
        {
         "code": ">>> # Don't round your answers\n>>> np.isclose(celsius_temperature_ranges.item(0), 7.222)\nFalse",
         "hidden": false,
         "locked": false
        },
        {
         "code": ">>> np.isclose(round(sum(celsius_temperature_ranges)), 768487)\nTrue",
         "hidden": false,
         "locked": false
        },
        {
         "code": ">>> len(celsius_temperature_ranges) == len(max_temperatures)\nTrue",
         "hidden": false,
         "locked": false
        }
       ],
       "scored": true,
       "setup": "",
       "teardown": "",
       "type": "doctest"
      }
     ]
    },
    "q4_1": {
     "name": "q4_1",
     "points": [
      0,
      0
     ],
     "suites": [
      {
       "cases": [
        {
         "code": ">>> # Hint: shortest is a number between 40 and 50.\n>>> 40 <= shortest <= 50\nTrue",
         "hidden": false,
         "locked": false
        },
        {
         "code": ">>> # Hint: the average is between the shortest and the longest\n>>> shortest <= average <= longest\nTrue",
         "hidden": false,
         "locked": false
        }
       ],
       "scored": true,
       "setup": "",
       "teardown": "",
       "type": "doctest"
      }
     ]
    },
    "q4_2": {
     "name": "q4_2",
     "points": [
      0,
      0
     ],
     "suites": [
      {
       "cases": [
        {
         "code": ">>> # Hint: If you are getting 47 as your answer, you might be computing the biggest change \n>>> # rather than the biggest decrease!\n>>> biggest_decrease == 47\nFalse",
         "hidden": false,
         "locked": false
        },
        {
         "code": ">>> # Hint: biggest decrease is above 30, but not 47.\n>>> 30 <= biggest_decrease < 47\nTrue",
         "hidden": false,
         "locked": false
        }
       ],
       "scored": true,
       "setup": "",
       "teardown": "",
       "type": "doctest"
      }
     ]
    },
    "q4_3": {
     "name": "q4_3",
     "points": [
      0,
      4
     ],
     "suites": [
      {
       "cases": [
        {
         "code": ">>> len(first_nine_waiting_times)\n9",
         "hidden": false,
         "locked": false
        },
        {
         "code": ">>> total_waiting_time_until_tenth\n633",
         "hidden": false,
         "locked": false
        }
       ],
       "scored": true,
       "setup": "",
       "teardown": "",
       "type": "doctest"
      }
     ]
    },
    "q4_4": {
     "name": "q4_4",
     "points": [
      0
     ],
     "suites": [
      {
       "cases": [
        {
         "code": ">>> 15 <= average_error <= 25\nTrue",
         "hidden": false,
         "locked": false
        }
       ],
       "scored": true,
       "setup": "",
       "teardown": "",
       "type": "doctest"
      }
     ]
    },
    "q5_1": {
     "name": "q5_1",
     "points": [
      4
     ],
     "suites": [
      {
       "cases": [
        {
         "code": ">>> fruits.sort(0)\nfruit name | amount\napple      | 4\norange     | 3\npineapple  | 3",
         "hidden": false,
         "locked": false
        }
       ],
       "scored": true,
       "setup": "",
       "teardown": "",
       "type": "doctest"
      }
     ]
    },
    "q5_2": {
     "name": "q5_2",
     "points": [
      4
     ],
     "suites": [
      {
       "cases": [
        {
         "code": ">>> inventory.sort(0).column(0).item(0)\n25274",
         "hidden": false,
         "locked": false
        }
       ],
       "scored": true,
       "setup": "",
       "teardown": "",
       "type": "doctest"
      }
     ]
    },
    "q5_3": {
     "name": "q5_3",
     "points": [
      0
     ],
     "suites": [
      {
       "cases": [
        {
         "code": ">>> all_different in {True, False}\nTrue",
         "hidden": false,
         "locked": false
        }
       ],
       "scored": true,
       "setup": "",
       "teardown": "",
       "type": "doctest"
      }
     ]
    },
    "q5_4": {
     "name": "q5_4",
     "points": [
      5
     ],
     "suites": [
      {
       "cases": [
        {
         "code": ">>> sales.sort(0)\nbox ID | fruit name | count sold | price per fruit ($)\n25274  | apple      | 0          | 0.8\n26187  | strawberry | 25         | 0.15\n43566  | peach      | 17         | 0.8\n48800  | orange     | 35         | 0.6\n52357  | strawberry | 102        | 0.25\n53686  | kiwi       | 3          | 0.5\n57181  | strawberry | 101        | 0.2\n57930  | grape      | 355        | 0.06",
         "hidden": false,
         "locked": false
        }
       ],
       "scored": true,
       "setup": "",
       "teardown": "",
       "type": "doctest"
      }
     ]
    },
    "q5_5": {
     "name": "q5_5",
     "points": [
      0
     ],
     "suites": [
      {
       "cases": [
        {
         "code": ">>> # We're asking for the number of *pieces* of fruit, not the\n>>> # number of kinds of fruit or the number of boxes from which\n>>> # there were sales.\n>>> total_fruits_sold > 10\nTrue",
         "hidden": false,
         "locked": false
        }
       ],
       "scored": true,
       "setup": "",
       "teardown": "",
       "type": "doctest"
      }
     ]
    },
    "q5_6": {
     "name": "q5_6",
     "points": [
      0
     ],
     "suites": [
      {
       "cases": [
        {
         "code": ">>> # If you're stuck, here's a hint: You want to multiply the count\n>>> # sold in each box by the per-item price of fruits in that box.\n>>> # You can use elementwise multiplication for that.\n>>> # Then you want the sum of those products.  Use sum().\n>>> 50 <= total_revenue <= 150\nTrue",
         "hidden": false,
         "locked": false
        }
       ],
       "scored": true,
       "setup": "",
       "teardown": "",
       "type": "doctest"
      }
     ]
    },
    "q5_7": {
     "name": "q5_7",
     "points": [
      0,
      2,
      3
     ],
     "suites": [
      {
       "cases": [
        {
         "code": ">>> # It looks like your table doesn't have all 3 columns that are\n>>> # in the inventory table.\n>>> remaining_inventory.num_columns\n3",
         "hidden": false,
         "locked": false
        },
        {
         "code": ">>> #It looks like you forgot to subtract off the sales.\n>>> remaining_inventory.column(\"count\").item(0) != 45\nTrue",
         "hidden": false,
         "locked": false
        },
        {
         "code": ">>> remaining_inventory.where(1, 'grape')\nbox ID | fruit name | count\n57930  | grape      | 162",
         "hidden": false,
         "locked": false
        }
       ],
       "scored": true,
       "setup": "",
       "teardown": "",
       "type": "doctest"
      }
     ]
    }
   }
  }
 },
 "nbformat": 4,
 "nbformat_minor": 5
}
